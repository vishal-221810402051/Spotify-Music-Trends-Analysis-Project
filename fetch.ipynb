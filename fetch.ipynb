{
 "cells": [
  {
   "cell_type": "code",
   "execution_count": null,
   "id": "b3d73973-72ff-4c5e-a995-6c8e5f527a90",
   "metadata": {},
   "outputs": [],
   "source": [
    "import requests\n",
    "import base64\n",
    "\n",
    "\n",
    "# Function to get access token\n",
    "client_id = 'Your client ID'\n",
    "client_secret = 'Your clint secret ID'\n",
    "def get_access_token(client_id, client_secret):\n",
    "    credentials = f\"{client_id}:{client_secret}\"\n",
    "    encoded_credentials = base64.b64encode(credentials.encode()).decode()\n",
    "    \n",
    "    url = 'https://accounts.spotify.com/api/token'\n",
    "    headers = {\n",
    "        'Authorization': f'Basic {encoded_credentials}',\n",
    "        'Content-Type': 'application/x-www-form-urlencoded'\n",
    "    }\n",
    "    data = {\n",
    "        'grant_type': 'client_credentials'\n",
    "    }\n",
    "    \n",
    "    response = requests.post(url, headers=headers, data=data)\n",
    "    access_token = response.json().get('access_token')\n",
    "    return access_token\n",
    "    \n",
    "def get_top_artists(access_token):\n",
    "    url = 'https://api.spotify.com/v1/artists?ids=1Xyo4u8uXC1ZmMpatF05PJ,6eUKZXaKkcviH0Ku9w2n3V,66CXWjxzNUsdJxJ2JdwvnR,1uNFoZAHBGtllmzznpCI3s,3TVXtAsR1Inumwj472S9r4,6M2wZ9GZgrQXHCFfjv46we,7dGJo4pcD2V6oG8kP0tJRR,53XhwfbYqKCa1cC15pYq2q,6qqNVTkY8uBg9cP3Jd7DAH,4gzpq5DPGxSnKTe4SA8HAU'\n",
    "    headers = {\n",
    "        'Authorization': f'Bearer {access_token}'\n",
    "    }\n",
    "    \n",
    "    response = requests.get(url, headers=headers)\n",
    "    artists_data = response.json()\n",
    "    return artists_data\n",
    "    "
   ]
  },
  {
   "cell_type": "code",
   "execution_count": null,
   "id": "f5d830b5-3027-40cf-b00b-863c624e31cd",
   "metadata": {},
   "outputs": [],
   "source": [
    "# Function to get top 10 artists\n",
    "def get_top_artists(access_token):\n",
    "    url = 'https://api.spotify.com/v1/artists?ids=1Xyo4u8uXC1ZmMpatF05PJ,6eUKZXaKkcviH0Ku9w2n3V,66CXWjxzNUsdJxJ2JdwvnR,1uNFoZAHBGtllmzznpCI3s,3TVXtAsR1Inumwj472S9r4,6M2wZ9GZgrQXHCFfjv46we,7dGJo4pcD2V6oG8kP0tJRR,53XhwfbYqKCa1cC15pYq2q,6qqNVTkY8uBg9cP3Jd7DAH,4gzpq5DPGxSnKTe4SA8HAU'\n",
    "    headers = {\n",
    "        'Authorization': f'Bearer {access_token}'\n",
    "    }\n",
    "    \n",
    "    response = requests.get(url, headers=headers)\n",
    "    artists_data = response.json()\n",
    "    print(artists_data)  # Debugging: Print the structure of artists_data\n",
    "    return artists_data\n",
    "\n",
    "# Function to get popular songs of an artist in the last 5 years\n",
    "def get_popular_songs(access_token, artist_id):\n",
    "    url = f'https://api.spotify.com/v1/artists/{artist_id}/top-tracks?market=US'\n",
    "    headers = {\n",
    "        'Authorization': f'Bearer {access_token}'\n",
    "    }\n",
    "    \n",
    "    response = requests.get(url, headers=headers)\n",
    "    songs_data = response.json()\n",
    "    return songs_data"
   ]
  },
  {
   "cell_type": "code",
   "execution_count": null,
   "id": "f6fe9905-845d-4a60-8a0d-be4f8fd808ae",
   "metadata": {},
   "outputs": [],
   "source": []
  }
 ],
 "metadata": {
  "kernelspec": {
   "display_name": "Python 3 (ipykernel)",
   "language": "python",
   "name": "python3"
  },
  "language_info": {
   "codemirror_mode": {
    "name": "ipython",
    "version": 3
   },
   "file_extension": ".py",
   "mimetype": "text/x-python",
   "name": "python",
   "nbconvert_exporter": "python",
   "pygments_lexer": "ipython3",
   "version": "3.12.3"
  }
 },
 "nbformat": 4,
 "nbformat_minor": 5
}
