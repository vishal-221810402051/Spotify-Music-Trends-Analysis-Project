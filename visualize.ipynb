{
 "cells": [
  {
   "cell_type": "code",
   "execution_count": null,
   "id": "9fff7593-0067-4729-ac00-44ca885ba7bc",
   "metadata": {},
   "outputs": [],
   "source": [
    "import pandas as pd\n",
    "import plotly.express as px\n",
    "import psycopg2\n",
    "\n",
    "# Retrieve data from PostgreSQL and visualize using Plotly\n",
    "conn = psycopg2.connect(\n",
    "    dbname='Yout database name',\n",
    "    user='your username',\n",
    "    password='your password',\n",
    "    host='your host',\n",
    "    port='your password'\n",
    ")\n",
    "\n",
    "df_artists = pd.read_sql_query(\"SELECT * FROM artists\", conn)\n",
    "df_songs = pd.read_sql_query(\"SELECT * FROM tracks\", conn)\n",
    "\n",
    "conn.close()\n",
    "\n",
    "# Example visualization: Top 10 Artists by Popularity\n",
    "fig_artists = px.bar(df_artists.sort_values(by='popularity', ascending=False).head(10), x='name', y='popularity', title='Top 10 Artists by Popularity')\n",
    "fig_artists.show()\n",
    "\n",
    "\n",
    "# Visualization: Compare the followers of artists\n",
    "fig_followers = px.bar(df_artists.sort_values(by='followers', ascending=False).head(10), x='name', y='followers', title='Top 10 Artists by Followers')\n",
    "fig_followers.show()"
   ]
  }
 ],
 "metadata": {
  "kernelspec": {
   "display_name": "Python 3 (ipykernel)",
   "language": "python",
   "name": "python3"
  },
  "language_info": {
   "codemirror_mode": {
    "name": "ipython",
    "version": 3
   },
   "file_extension": ".py",
   "mimetype": "text/x-python",
   "name": "python",
   "nbconvert_exporter": "python",
   "pygments_lexer": "ipython3",
   "version": "3.12.3"
  }
 },
 "nbformat": 4,
 "nbformat_minor": 5
}
